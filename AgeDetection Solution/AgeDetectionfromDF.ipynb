{
 "cells": [
  {
   "cell_type": "markdown",
   "metadata": {},
   "source": [
    "# Importing Packages"
   ]
  },
  {
   "cell_type": "code",
   "execution_count": 257,
   "metadata": {},
   "outputs": [],
   "source": [
    "import os\n",
    "\n",
    "import pandas as pd\n",
    "import numpy as np\n",
    "\n",
    "import keras\n",
    "from keras.layers import Dense, Flatten, Conv2D\n",
    "\n",
    "from keras.models import Sequential\n",
    "\n",
    "from keras.preprocessing.image import ImageDataGenerator\n",
    "\n",
    "import matplotlib.pyplot as plt\n",
    "\n",
    "from sklearn.model_selection import train_test_split"
   ]
  },
  {
   "cell_type": "markdown",
   "metadata": {},
   "source": [
    "### Reading the Data"
   ]
  },
  {
   "cell_type": "code",
   "execution_count": 42,
   "metadata": {},
   "outputs": [],
   "source": [
    "train =pd.read_csv('train.csv') \n",
    "test  = pd.read_csv('test.csv')"
   ]
  },
  {
   "cell_type": "code",
   "execution_count": 26,
   "metadata": {},
   "outputs": [
    {
     "data": {
      "text/plain": [
       "Class\n",
       "MIDDLE    10804\n",
       "OLD        2396\n",
       "YOUNG      6706\n",
       "Name: ID, dtype: int64"
      ]
     },
     "execution_count": 26,
     "metadata": {},
     "output_type": "execute_result"
    }
   ],
   "source": [
    "train.groupby('Class')['ID'].count()"
   ]
  },
  {
   "cell_type": "code",
   "execution_count": 90,
   "metadata": {},
   "outputs": [],
   "source": [
    "train_data = train"
   ]
  },
  {
   "cell_type": "code",
   "execution_count": 91,
   "metadata": {},
   "outputs": [
    {
     "data": {
      "text/plain": [
       "Class\n",
       "MIDDLE    10804\n",
       "OLD        2396\n",
       "YOUNG      6706\n",
       "Name: ID, dtype: int64"
      ]
     },
     "execution_count": 91,
     "metadata": {},
     "output_type": "execute_result"
    }
   ],
   "source": [
    "train_data.groupby('Class')['ID'].count()"
   ]
  },
  {
   "cell_type": "markdown",
   "metadata": {},
   "source": [
    "# Image Preprocessing"
   ]
  },
  {
   "cell_type": "markdown",
   "metadata": {},
   "source": [
    "#### Splitting the Data into train and test"
   ]
  },
  {
   "cell_type": "code",
   "execution_count": 93,
   "metadata": {},
   "outputs": [],
   "source": [
    "train_df, test_df = train_test_split(train_data,train_size=0.7,shuffle=True,random_state=1)"
   ]
  },
  {
   "cell_type": "code",
   "execution_count": 95,
   "metadata": {},
   "outputs": [
    {
     "data": {
      "text/plain": [
       "Class\n",
       "MIDDLE    7545\n",
       "OLD       1701\n",
       "YOUNG     4688\n",
       "Name: ID, dtype: int64"
      ]
     },
     "execution_count": 95,
     "metadata": {},
     "output_type": "execute_result"
    }
   ],
   "source": [
    "train_df.groupby('Class')['ID'].count()"
   ]
  },
  {
   "cell_type": "code",
   "execution_count": 96,
   "metadata": {},
   "outputs": [
    {
     "data": {
      "text/plain": [
       "Class\n",
       "MIDDLE    3259\n",
       "OLD        695\n",
       "YOUNG     2018\n",
       "Name: ID, dtype: int64"
      ]
     },
     "execution_count": 96,
     "metadata": {},
     "output_type": "execute_result"
    }
   ],
   "source": [
    "test_df.groupby('Class')['ID'].count()"
   ]
  },
  {
   "cell_type": "markdown",
   "metadata": {},
   "source": [
    "### Creating Image Generator for Data Flow from Data Frame"
   ]
  },
  {
   "cell_type": "code",
   "execution_count": 97,
   "metadata": {},
   "outputs": [],
   "source": [
    "train_generator = ImageDataGenerator(\n",
    "    rescale=1./255,\n",
    "    validation_split=0.25\n",
    "\n",
    ")"
   ]
  },
  {
   "cell_type": "code",
   "execution_count": 98,
   "metadata": {},
   "outputs": [],
   "source": [
    "test_generator = ImageDataGenerator(\n",
    "    rescale=1./255\n",
    ")"
   ]
  },
  {
   "cell_type": "code",
   "execution_count": 99,
   "metadata": {},
   "outputs": [
    {
     "name": "stdout",
     "output_type": "stream",
     "text": [
      "Found 10451 validated image filenames belonging to 3 classes.\n"
     ]
    }
   ],
   "source": [
    "train_images = train_generator.flow_from_dataframe(\n",
    "dataframe=train_df,\n",
    "directory=\"./Train/\",\n",
    "x_col=\"ID\",\n",
    "y_col=\"Class\",\n",
    "subset=\"training\",\n",
    "batch_size=32,\n",
    "seed=42,\n",
    "shuffle=True,\n",
    "class_mode=\"categorical\",\n",
    "target_size=(32,32)\n",
    ")"
   ]
  },
  {
   "cell_type": "code",
   "execution_count": 100,
   "metadata": {},
   "outputs": [
    {
     "name": "stdout",
     "output_type": "stream",
     "text": [
      "Found 3483 validated image filenames belonging to 3 classes.\n"
     ]
    }
   ],
   "source": [
    "val_images = train_generator.flow_from_dataframe(\n",
    "    dataframe=train_df,\n",
    "    directory=\"./Train/\",\n",
    "    x_col=\"ID\",\n",
    "    y_col=\"Class\",\n",
    "    target_size=(32,32),\n",
    "    color_mode='rgb',\n",
    "    class_mode=\"categorical\",\n",
    "    batch_size=32,\n",
    "    shuffle=True,\n",
    "    seed=42,\n",
    "    subset='validation'\n",
    ")"
   ]
  },
  {
   "cell_type": "code",
   "execution_count": 101,
   "metadata": {},
   "outputs": [
    {
     "name": "stdout",
     "output_type": "stream",
     "text": [
      "Found 5972 validated image filenames belonging to 3 classes.\n"
     ]
    }
   ],
   "source": [
    "test_images = test_generator.flow_from_dataframe(\n",
    "    dataframe=test_df,\n",
    "    directory=\"./Train/\",\n",
    "    x_col=\"ID\",\n",
    "    y_col=\"Class\",\n",
    "    target_size=(32, 32),\n",
    "    color_mode='rgb',\n",
    "    class_mode='categorical',\n",
    "    batch_size=32,\n",
    "    shuffle=False\n",
    "    \n",
    ")"
   ]
  },
  {
   "cell_type": "markdown",
   "metadata": {},
   "source": [
    "# Actual image with Labels"
   ]
  },
  {
   "cell_type": "code",
   "execution_count": 232,
   "metadata": {},
   "outputs": [
    {
     "data": {
      "image/png": "[encoded data removed]",
      "text/plain": [
       "<Figure size 432x288 with 1 Axes>"
      ]
     },
     "metadata": {
      "needs_background": "light"
     },
     "output_type": "display_data"
    },
    {
     "data": {
      "image/png": "[encoded data removed]",
      "text/plain": [
       "<Figure size 432x288 with 1 Axes>"
      ]
     },
     "metadata": {
      "needs_background": "light"
     },
     "output_type": "display_data"
    },
    {
     "data": {
      "image/png": "[encoded data removed]",
      "text/plain": [
       "<Figure size 432x288 with 1 Axes>"
      ]
     },
     "metadata": {
      "needs_background": "light"
     },
     "output_type": "display_data"
    },
    {
     "data": {
      "image/png": "[encoded data removed]",
      "text/plain": [
       "<Figure size 432x288 with 1 Axes>"
      ]
     },
     "metadata": {
      "needs_background": "light"
     },
     "output_type": "display_data"
    },
    {
     "data": {
      "image/png": "[encoded data removed]",
      "text/plain": [
       "<Figure size 432x288 with 1 Axes>"
      ]
     },
     "metadata": {
      "needs_background": "light"
     },
     "output_type": "display_data"
    }
   ],
   "source": [
    "for batch in test_images:\n",
    "    image = batch[0]\n",
    "    label = batch[1]\n",
    "    for i in range(5):\n",
    "        plt.imshow(image[i])\n",
    "        plt.title(list(test_images.class_indices.keys())[np.argmax(label[i])])\n",
    "        plt.show()\n",
    "        \n",
    "    break"
   ]
  },
  {
   "cell_type": "markdown",
   "metadata": {},
   "source": [
    "## Model Building "
   ]
  },
  {
   "cell_type": "code",
   "execution_count": 102,
   "metadata": {},
   "outputs": [],
   "source": [
    "from keras.layers import Input, MaxPool2D, GlobalAveragePooling2D\n",
    "from keras.models import Model"
   ]
  },
  {
   "cell_type": "code",
   "execution_count": 164,
   "metadata": {},
   "outputs": [],
   "source": [
    "inputs = Input(shape=(32, 32, 3))\n",
    "x = Conv2D(filters=16, kernel_size=(3, 3), activation='relu')(inputs)\n",
    "x = MaxPool2D()(x)\n",
    "x = Conv2D(filters=32, kernel_size=(3, 3), activation='relu')(x)\n",
    "x = MaxPool2D()(x)\n",
    "x = Conv2D(filters=64, kernel_size=(3, 3), activation='relu')(x)\n",
    "x = MaxPool2D()(x)\n",
    "x = GlobalAveragePooling2D()(x)\n",
    "x = Flatten()(x)\n",
    "x = Dense(64, activation='relu')(x)\n",
    "x = Dense(128, activation='relu')(x)\n",
    "outputs = Dense(3, activation='softmax')(x)\n"
   ]
  },
  {
   "cell_type": "code",
   "execution_count": 165,
   "metadata": {},
   "outputs": [],
   "source": [
    "model1 = Model(inputs=inputs, outputs=outputs)"
   ]
  },
  {
   "cell_type": "code",
   "execution_count": 166,
   "metadata": {},
   "outputs": [],
   "source": [
    "model1.compile(\n",
    "    optimizer='adam',\n",
    "    loss='categorical_crossentropy',\n",
    "    metrics=['accuracy']\n",
    ")"
   ]
  },
  {
   "cell_type": "code",
   "execution_count": 138,
   "metadata": {},
   "outputs": [],
   "source": [
    "from keras.callbacks import EarlyStopping, ModelCheckpoint"
   ]
  },
  {
   "cell_type": "code",
   "execution_count": 167,
   "metadata": {},
   "outputs": [],
   "source": [
    "es = EarlyStopping(monitor='val_loss', mode='min', verbose=1, patience=200)\n",
    "mc = ModelCheckpoint('best_model.h5', monitor='val_accuracy', mode='max', verbose=1, save_best_only=True)\n"
   ]
  },
  {
   "cell_type": "code",
   "execution_count": 168,
   "metadata": {},
   "outputs": [
    {
     "name": "stdout",
     "output_type": "stream",
     "text": [
      "Epoch 1/100\n",
      "327/327 [==============================] - ETA: 0s - loss: 0.9544 - accuracy: 0.5406\n",
      "Epoch 1: val_accuracy improved from -inf to 0.53976, saving model to best_model.h5\n",
      "327/327 [==============================] - 121s 364ms/step - loss: 0.9544 - accuracy: 0.5406 - val_loss: 0.9397 - val_accuracy: 0.5398\n",
      "Epoch 2/100\n",
      "327/327 [==============================] - ETA: 0s - loss: 0.8818 - accuracy: 0.5822\n",
      "Epoch 2: val_accuracy improved from 0.53976 to 0.58570, saving model to best_model.h5\n",
      "327/327 [==============================] - 32s 97ms/step - loss: 0.8818 - accuracy: 0.5822 - val_loss: 0.8757 - val_accuracy: 0.5857\n",
      "Epoch 3/100\n",
      "327/327 [==============================] - ETA: 0s - loss: 0.7884 - accuracy: 0.6504\n",
      "Epoch 3: val_accuracy improved from 0.58570 to 0.66322, saving model to best_model.h5\n",
      "327/327 [==============================] - 34s 103ms/step - loss: 0.7884 - accuracy: 0.6504 - val_loss: 0.7670 - val_accuracy: 0.6632\n",
      "Epoch 4/100\n",
      "327/327 [==============================] - ETA: 0s - loss: 0.7424 - accuracy: 0.6753\n",
      "Epoch 4: val_accuracy improved from 0.66322 to 0.67786, saving model to best_model.h5\n",
      "327/327 [==============================] - 38s 116ms/step - loss: 0.7424 - accuracy: 0.6753 - val_loss: 0.7270 - val_accuracy: 0.6779\n",
      "Epoch 5/100\n",
      "327/327 [==============================] - ETA: 0s - loss: 0.7089 - accuracy: 0.6871\n",
      "Epoch 5: val_accuracy improved from 0.67786 to 0.69251, saving model to best_model.h5\n",
      "327/327 [==============================] - 30s 90ms/step - loss: 0.7089 - accuracy: 0.6871 - val_loss: 0.7156 - val_accuracy: 0.6925\n",
      "Epoch 6/100\n",
      "326/327 [============================>.] - ETA: 0s - loss: 0.6825 - accuracy: 0.7016\n",
      "Epoch 6: val_accuracy did not improve from 0.69251\n",
      "327/327 [==============================] - 35s 106ms/step - loss: 0.6825 - accuracy: 0.7017 - val_loss: 0.7020 - val_accuracy: 0.6914\n",
      "Epoch 7/100\n",
      "327/327 [==============================] - ETA: 0s - loss: 0.6634 - accuracy: 0.7090\n",
      "Epoch 7: val_accuracy did not improve from 0.69251\n",
      "327/327 [==============================] - 33s 100ms/step - loss: 0.6634 - accuracy: 0.7090 - val_loss: 0.7218 - val_accuracy: 0.6790\n",
      "Epoch 8/100\n",
      "327/327 [==============================] - ETA: 0s - loss: 0.6438 - accuracy: 0.7201\n",
      "Epoch 8: val_accuracy did not improve from 0.69251\n",
      "327/327 [==============================] - 36s 109ms/step - loss: 0.6438 - accuracy: 0.7201 - val_loss: 0.7162 - val_accuracy: 0.6905\n",
      "Epoch 9/100\n",
      "327/327 [==============================] - ETA: 0s - loss: 0.6266 - accuracy: 0.7321\n",
      "Epoch 9: val_accuracy did not improve from 0.69251\n",
      "327/327 [==============================] - 36s 109ms/step - loss: 0.6266 - accuracy: 0.7321 - val_loss: 0.7084 - val_accuracy: 0.6873\n",
      "Epoch 10/100\n",
      "327/327 [==============================] - ETA: 0s - loss: 0.6154 - accuracy: 0.7398\n",
      "Epoch 10: val_accuracy improved from 0.69251 to 0.69624, saving model to best_model.h5\n",
      "327/327 [==============================] - 35s 107ms/step - loss: 0.6154 - accuracy: 0.7398 - val_loss: 0.6906 - val_accuracy: 0.6962\n",
      "Epoch 11/100\n",
      "327/327 [==============================] - ETA: 0s - loss: 0.5949 - accuracy: 0.7417\n",
      "Epoch 11: val_accuracy improved from 0.69624 to 0.71634, saving model to best_model.h5\n",
      "327/327 [==============================] - 33s 100ms/step - loss: 0.5949 - accuracy: 0.7417 - val_loss: 0.6634 - val_accuracy: 0.7163\n",
      "Epoch 12/100\n",
      "327/327 [==============================] - ETA: 0s - loss: 0.5720 - accuracy: 0.7559\n",
      "Epoch 12: val_accuracy did not improve from 0.71634\n",
      "327/327 [==============================] - 34s 103ms/step - loss: 0.5720 - accuracy: 0.7559 - val_loss: 0.6868 - val_accuracy: 0.6985\n",
      "Epoch 13/100\n",
      "327/327 [==============================] - ETA: 0s - loss: 0.5572 - accuracy: 0.7629\n",
      "Epoch 13: val_accuracy improved from 0.71634 to 0.72639, saving model to best_model.h5\n",
      "327/327 [==============================] - 27s 84ms/step - loss: 0.5572 - accuracy: 0.7629 - val_loss: 0.6444 - val_accuracy: 0.7264\n",
      "Epoch 14/100\n",
      "327/327 [==============================] - ETA: 0s - loss: 0.5449 - accuracy: 0.7732\n",
      "Epoch 14: val_accuracy improved from 0.72639 to 0.73328, saving model to best_model.h5\n",
      "327/327 [==============================] - 33s 100ms/step - loss: 0.5449 - accuracy: 0.7732 - val_loss: 0.6452 - val_accuracy: 0.7333\n",
      "Epoch 15/100\n",
      "327/327 [==============================] - ETA: 0s - loss: 0.5198 - accuracy: 0.7822\n",
      "Epoch 15: val_accuracy did not improve from 0.73328\n",
      "327/327 [==============================] - 38s 116ms/step - loss: 0.5198 - accuracy: 0.7822 - val_loss: 0.6922 - val_accuracy: 0.7123\n",
      "Epoch 16/100\n",
      "327/327 [==============================] - ETA: 0s - loss: 0.5008 - accuracy: 0.7908\n",
      "Epoch 16: val_accuracy did not improve from 0.73328\n",
      "327/327 [==============================] - 36s 109ms/step - loss: 0.5008 - accuracy: 0.7908 - val_loss: 0.6915 - val_accuracy: 0.7117\n",
      "Epoch 17/100\n",
      "327/327 [==============================] - ETA: 0s - loss: 0.4917 - accuracy: 0.7980\n",
      "Epoch 17: val_accuracy improved from 0.73328 to 0.73701, saving model to best_model.h5\n",
      "327/327 [==============================] - 36s 109ms/step - loss: 0.4917 - accuracy: 0.7980 - val_loss: 0.6374 - val_accuracy: 0.7370\n",
      "Epoch 18/100\n",
      "327/327 [==============================] - ETA: 0s - loss: 0.4693 - accuracy: 0.8127\n",
      "Epoch 18: val_accuracy did not improve from 0.73701\n",
      "327/327 [==============================] - 36s 109ms/step - loss: 0.4693 - accuracy: 0.8127 - val_loss: 0.6684 - val_accuracy: 0.7186\n",
      "Epoch 19/100\n",
      "327/327 [==============================] - ETA: 0s - loss: 0.4500 - accuracy: 0.8190\n",
      "Epoch 19: val_accuracy did not improve from 0.73701\n",
      "327/327 [==============================] - 37s 114ms/step - loss: 0.4500 - accuracy: 0.8190 - val_loss: 0.6557 - val_accuracy: 0.7281\n",
      "Epoch 20/100\n",
      "327/327 [==============================] - ETA: 0s - loss: 0.4291 - accuracy: 0.8260\n",
      "Epoch 20: val_accuracy did not improve from 0.73701\n",
      "327/327 [==============================] - 34s 104ms/step - loss: 0.4291 - accuracy: 0.8260 - val_loss: 0.6771 - val_accuracy: 0.7313\n",
      "Epoch 21/100\n",
      "327/327 [==============================] - ETA: 0s - loss: 0.4187 - accuracy: 0.8344\n",
      "Epoch 21: val_accuracy did not improve from 0.73701\n",
      "327/327 [==============================] - 33s 102ms/step - loss: 0.4187 - accuracy: 0.8344 - val_loss: 0.6598 - val_accuracy: 0.7293\n",
      "Epoch 22/100\n",
      "327/327 [==============================] - ETA: 0s - loss: 0.4000 - accuracy: 0.8403\n",
      "Epoch 22: val_accuracy did not improve from 0.73701\n",
      "327/327 [==============================] - 22s 66ms/step - loss: 0.4000 - accuracy: 0.8403 - val_loss: 0.6977 - val_accuracy: 0.7272\n",
      "Epoch 23/100\n",
      "327/327 [==============================] - ETA: 0s - loss: 0.3802 - accuracy: 0.8525\n",
      "Epoch 23: val_accuracy did not improve from 0.73701\n",
      "327/327 [==============================] - 20s 61ms/step - loss: 0.3802 - accuracy: 0.8525 - val_loss: 0.6732 - val_accuracy: 0.7336\n",
      "Epoch 24/100\n",
      "326/327 [============================>.] - ETA: 0s - loss: 0.3644 - accuracy: 0.8546\n",
      "Epoch 24: val_accuracy did not improve from 0.73701\n",
      "327/327 [==============================] - 20s 61ms/step - loss: 0.3647 - accuracy: 0.8546 - val_loss: 0.7028 - val_accuracy: 0.7287\n",
      "Epoch 25/100\n",
      "326/327 [============================>.] - ETA: 0s - loss: 0.3407 - accuracy: 0.8632\n",
      "Epoch 25: val_accuracy did not improve from 0.73701\n",
      "327/327 [==============================] - 20s 61ms/step - loss: 0.3406 - accuracy: 0.8632 - val_loss: 0.7225 - val_accuracy: 0.7267\n",
      "Epoch 26/100\n",
      "326/327 [============================>.] - ETA: 0s - loss: 0.3138 - accuracy: 0.8820\n",
      "Epoch 26: val_accuracy did not improve from 0.73701\n",
      "327/327 [==============================] - 20s 61ms/step - loss: 0.3146 - accuracy: 0.8819 - val_loss: 0.8067 - val_accuracy: 0.7201\n",
      "Epoch 27/100\n",
      "326/327 [============================>.] - ETA: 0s - loss: 0.3252 - accuracy: 0.8726\n",
      "Epoch 27: val_accuracy did not improve from 0.73701\n",
      "327/327 [==============================] - 20s 62ms/step - loss: 0.3256 - accuracy: 0.8725 - val_loss: 0.7865 - val_accuracy: 0.7327\n",
      "Epoch 28/100\n",
      "326/327 [============================>.] - ETA: 0s - loss: 0.3017 - accuracy: 0.8833\n",
      "Epoch 28: val_accuracy did not improve from 0.73701\n",
      "327/327 [==============================] - 20s 62ms/step - loss: 0.3022 - accuracy: 0.8830 - val_loss: 0.8195 - val_accuracy: 0.7186\n",
      "Epoch 29/100\n",
      "326/327 [============================>.] - ETA: 0s - loss: 0.2876 - accuracy: 0.8923\n",
      "Epoch 29: val_accuracy improved from 0.73701 to 0.73931, saving model to best_model.h5\n",
      "327/327 [==============================] - 22s 68ms/step - loss: 0.2875 - accuracy: 0.8921 - val_loss: 0.8171 - val_accuracy: 0.7393\n",
      "Epoch 30/100\n",
      "327/327 [==============================] - ETA: 0s - loss: 0.2852 - accuracy: 0.8883\n",
      "Epoch 30: val_accuracy did not improve from 0.73931\n",
      "327/327 [==============================] - 20s 61ms/step - loss: 0.2852 - accuracy: 0.8883 - val_loss: 0.8156 - val_accuracy: 0.7304\n",
      "Epoch 31/100\n",
      "327/327 [==============================] - ETA: 0s - loss: 0.2537 - accuracy: 0.9010\n",
      "Epoch 31: val_accuracy did not improve from 0.73931\n",
      "327/327 [==============================] - 20s 61ms/step - loss: 0.2537 - accuracy: 0.9010 - val_loss: 0.9224 - val_accuracy: 0.7321\n",
      "Epoch 32/100\n",
      "326/327 [============================>.] - ETA: 0s - loss: 0.2453 - accuracy: 0.9063\n",
      "Epoch 32: val_accuracy did not improve from 0.73931\n",
      "327/327 [==============================] - 20s 61ms/step - loss: 0.2463 - accuracy: 0.9061 - val_loss: 0.8139 - val_accuracy: 0.7301\n",
      "Epoch 33/100\n",
      "327/327 [==============================] - ETA: 0s - loss: 0.2447 - accuracy: 0.9042\n",
      "Epoch 33: val_accuracy did not improve from 0.73931\n",
      "327/327 [==============================] - 20s 62ms/step - loss: 0.2447 - accuracy: 0.9042 - val_loss: 0.9076 - val_accuracy: 0.7149\n",
      "Epoch 34/100\n",
      "327/327 [==============================] - ETA: 0s - loss: 0.2136 - accuracy: 0.9187\n",
      "Epoch 34: val_accuracy did not improve from 0.73931\n",
      "327/327 [==============================] - 20s 62ms/step - loss: 0.2136 - accuracy: 0.9187 - val_loss: 0.8848 - val_accuracy: 0.7367\n",
      "Epoch 35/100\n",
      "327/327 [==============================] - ETA: 0s - loss: 0.2022 - accuracy: 0.9224\n",
      "Epoch 35: val_accuracy did not improve from 0.73931\n",
      "327/327 [==============================] - 20s 61ms/step - loss: 0.2022 - accuracy: 0.9224 - val_loss: 0.9543 - val_accuracy: 0.7235\n",
      "Epoch 36/100\n",
      "327/327 [==============================] - ETA: 0s - loss: 0.1912 - accuracy: 0.9296\n",
      "Epoch 36: val_accuracy did not improve from 0.73931\n",
      "327/327 [==============================] - 20s 61ms/step - loss: 0.1912 - accuracy: 0.9296 - val_loss: 0.9939 - val_accuracy: 0.7186\n",
      "Epoch 37/100\n",
      "327/327 [==============================] - ETA: 0s - loss: 0.1998 - accuracy: 0.9263\n",
      "Epoch 37: val_accuracy did not improve from 0.73931\n",
      "327/327 [==============================] - 20s 62ms/step - loss: 0.1998 - accuracy: 0.9263 - val_loss: 0.9568 - val_accuracy: 0.7310\n",
      "Epoch 38/100\n",
      "327/327 [==============================] - ETA: 0s - loss: 0.1728 - accuracy: 0.9355\n",
      "Epoch 38: val_accuracy did not improve from 0.73931\n",
      "327/327 [==============================] - 20s 61ms/step - loss: 0.1728 - accuracy: 0.9355 - val_loss: 1.0005 - val_accuracy: 0.7324\n",
      "Epoch 39/100\n",
      "327/327 [==============================] - ETA: 0s - loss: 0.1687 - accuracy: 0.9357\n",
      "Epoch 39: val_accuracy did not improve from 0.73931\n",
      "327/327 [==============================] - 20s 61ms/step - loss: 0.1687 - accuracy: 0.9357 - val_loss: 1.0531 - val_accuracy: 0.7215\n",
      "Epoch 40/100\n",
      "327/327 [==============================] - ETA: 0s - loss: 0.1520 - accuracy: 0.9439\n",
      "Epoch 40: val_accuracy did not improve from 0.73931\n",
      "327/327 [==============================] - 20s 61ms/step - loss: 0.1520 - accuracy: 0.9439 - val_loss: 1.1347 - val_accuracy: 0.7117\n",
      "Epoch 41/100\n",
      "327/327 [==============================] - ETA: 0s - loss: 0.1676 - accuracy: 0.9384\n",
      "Epoch 41: val_accuracy did not improve from 0.73931\n",
      "327/327 [==============================] - 20s 61ms/step - loss: 0.1676 - accuracy: 0.9384 - val_loss: 1.1075 - val_accuracy: 0.7270\n",
      "Epoch 42/100\n",
      "327/327 [==============================] - ETA: 0s - loss: 0.1407 - accuracy: 0.9482\n",
      "Epoch 42: val_accuracy did not improve from 0.73931\n",
      "327/327 [==============================] - 20s 61ms/step - loss: 0.1407 - accuracy: 0.9482 - val_loss: 1.1294 - val_accuracy: 0.7204\n",
      "Epoch 43/100\n",
      "327/327 [==============================] - ETA: 0s - loss: 0.1347 - accuracy: 0.9481\n",
      "Epoch 43: val_accuracy did not improve from 0.73931\n",
      "327/327 [==============================] - 20s 61ms/step - loss: 0.1347 - accuracy: 0.9481 - val_loss: 1.2454 - val_accuracy: 0.7238\n",
      "Epoch 44/100\n",
      "327/327 [==============================] - ETA: 0s - loss: 0.1505 - accuracy: 0.9436\n",
      "Epoch 44: val_accuracy did not improve from 0.73931\n",
      "327/327 [==============================] - 20s 61ms/step - loss: 0.1505 - accuracy: 0.9436 - val_loss: 1.3334 - val_accuracy: 0.7103\n",
      "Epoch 45/100\n",
      "327/327 [==============================] - ETA: 0s - loss: 0.1359 - accuracy: 0.9491\n",
      "Epoch 45: val_accuracy did not improve from 0.73931\n",
      "327/327 [==============================] - 20s 61ms/step - loss: 0.1359 - accuracy: 0.9491 - val_loss: 1.2472 - val_accuracy: 0.7293\n",
      "Epoch 46/100\n",
      "326/327 [============================>.] - ETA: 0s - loss: 0.1207 - accuracy: 0.9548\n",
      "Epoch 46: val_accuracy did not improve from 0.73931\n",
      "327/327 [==============================] - 20s 61ms/step - loss: 0.1207 - accuracy: 0.9549 - val_loss: 1.3445 - val_accuracy: 0.7106\n",
      "Epoch 47/100\n",
      "326/327 [============================>.] - ETA: 0s - loss: 0.1215 - accuracy: 0.9552\n",
      "Epoch 47: val_accuracy did not improve from 0.73931\n",
      "327/327 [==============================] - 20s 61ms/step - loss: 0.1215 - accuracy: 0.9551 - val_loss: 1.3289 - val_accuracy: 0.7298\n",
      "Epoch 48/100\n",
      "326/327 [============================>.] - ETA: 0s - loss: 0.1237 - accuracy: 0.9551\n",
      "Epoch 48: val_accuracy did not improve from 0.73931\n",
      "327/327 [==============================] - 20s 62ms/step - loss: 0.1235 - accuracy: 0.9552 - val_loss: 1.3101 - val_accuracy: 0.7175\n",
      "Epoch 49/100\n",
      "327/327 [==============================] - ETA: 0s - loss: 0.1161 - accuracy: 0.9595\n",
      "Epoch 49: val_accuracy did not improve from 0.73931\n",
      "327/327 [==============================] - 53s 163ms/step - loss: 0.1161 - accuracy: 0.9595 - val_loss: 1.2398 - val_accuracy: 0.7301\n",
      "Epoch 50/100\n",
      "327/327 [==============================] - ETA: 0s - loss: 0.0940 - accuracy: 0.9677  \n",
      "Epoch 50: val_accuracy did not improve from 0.73931\n",
      "327/327 [==============================] - 69512s 213s/step - loss: 0.0940 - accuracy: 0.9677 - val_loss: 1.3308 - val_accuracy: 0.7238\n",
      "Epoch 51/100\n",
      "327/327 [==============================] - ETA: 0s - loss: 0.1021 - accuracy: 0.9613\n",
      "Epoch 51: val_accuracy did not improve from 0.73931\n",
      "327/327 [==============================] - 144s 440ms/step - loss: 0.1021 - accuracy: 0.9613 - val_loss: 1.4164 - val_accuracy: 0.7336\n",
      "Epoch 52/100\n",
      "327/327 [==============================] - ETA: 0s - loss: 0.1095 - accuracy: 0.9593\n",
      "Epoch 52: val_accuracy did not improve from 0.73931\n",
      "327/327 [==============================] - 166s 507ms/step - loss: 0.1095 - accuracy: 0.9593 - val_loss: 1.3519 - val_accuracy: 0.7166\n",
      "Epoch 53/100\n",
      "327/327 [==============================] - ETA: 0s - loss: 0.0863 - accuracy: 0.9675\n",
      "Epoch 53: val_accuracy did not improve from 0.73931\n",
      "327/327 [==============================] - 35s 108ms/step - loss: 0.0863 - accuracy: 0.9675 - val_loss: 1.4847 - val_accuracy: 0.7252\n",
      "Epoch 54/100\n",
      "326/327 [============================>.] - ETA: 0s - loss: 0.0794 - accuracy: 0.9725\n",
      "Epoch 54: val_accuracy did not improve from 0.73931\n",
      "327/327 [==============================] - 25s 75ms/step - loss: 0.0795 - accuracy: 0.9723 - val_loss: 1.4607 - val_accuracy: 0.7270\n",
      "Epoch 55/100\n",
      "327/327 [==============================] - ETA: 0s - loss: 0.1096 - accuracy: 0.9606\n",
      "Epoch 55: val_accuracy did not improve from 0.73931\n",
      "327/327 [==============================] - 32s 98ms/step - loss: 0.1096 - accuracy: 0.9606 - val_loss: 1.3909 - val_accuracy: 0.7135\n",
      "Epoch 56/100\n",
      "327/327 [==============================] - ETA: 0s - loss: 0.0892 - accuracy: 0.9668\n",
      "Epoch 56: val_accuracy did not improve from 0.73931\n",
      "327/327 [==============================] - 21s 65ms/step - loss: 0.0892 - accuracy: 0.9668 - val_loss: 1.4873 - val_accuracy: 0.7140\n",
      "Epoch 57/100\n",
      "326/327 [============================>.] - ETA: 0s - loss: 0.1001 - accuracy: 0.9634\n",
      "Epoch 57: val_accuracy did not improve from 0.73931\n",
      "327/327 [==============================] - 21s 64ms/step - loss: 0.0999 - accuracy: 0.9635 - val_loss: 1.3877 - val_accuracy: 0.7235\n",
      "Epoch 58/100\n",
      "326/327 [============================>.] - ETA: 0s - loss: 0.0589 - accuracy: 0.9803\n",
      "Epoch 58: val_accuracy did not improve from 0.73931\n",
      "327/327 [==============================] - 18s 55ms/step - loss: 0.0589 - accuracy: 0.9803 - val_loss: 1.6651 - val_accuracy: 0.7117\n",
      "Epoch 59/100\n",
      "326/327 [============================>.] - ETA: 0s - loss: 0.1077 - accuracy: 0.9583\n",
      "Epoch 59: val_accuracy did not improve from 0.73931\n",
      "327/327 [==============================] - 16s 50ms/step - loss: 0.1075 - accuracy: 0.9585 - val_loss: 1.4898 - val_accuracy: 0.7244\n",
      "Epoch 60/100\n",
      "327/327 [==============================] - ETA: 0s - loss: 0.0581 - accuracy: 0.9784\n",
      "Epoch 60: val_accuracy did not improve from 0.73931\n",
      "327/327 [==============================] - 15s 47ms/step - loss: 0.0581 - accuracy: 0.9784 - val_loss: 1.6219 - val_accuracy: 0.7212\n",
      "Epoch 61/100\n",
      "327/327 [==============================] - ETA: 0s - loss: 0.0711 - accuracy: 0.9755\n",
      "Epoch 61: val_accuracy did not improve from 0.73931\n",
      "327/327 [==============================] - 18s 54ms/step - loss: 0.0711 - accuracy: 0.9755 - val_loss: 1.7060 - val_accuracy: 0.7247\n",
      "Epoch 62/100\n",
      "326/327 [============================>.] - ETA: 0s - loss: 0.0821 - accuracy: 0.9693\n",
      "Epoch 62: val_accuracy did not improve from 0.73931\n",
      "327/327 [==============================] - 20s 62ms/step - loss: 0.0820 - accuracy: 0.9693 - val_loss: 1.5277 - val_accuracy: 0.7224\n",
      "Epoch 63/100\n",
      "327/327 [==============================] - ETA: 0s - loss: 0.0751 - accuracy: 0.9735\n",
      "Epoch 63: val_accuracy did not improve from 0.73931\n",
      "327/327 [==============================] - 16s 49ms/step - loss: 0.0751 - accuracy: 0.9735 - val_loss: 1.5152 - val_accuracy: 0.7229\n",
      "Epoch 64/100\n",
      "327/327 [==============================] - ETA: 0s - loss: 0.0683 - accuracy: 0.9745\n",
      "Epoch 64: val_accuracy did not improve from 0.73931\n",
      "327/327 [==============================] - 19s 58ms/step - loss: 0.0683 - accuracy: 0.9745 - val_loss: 1.7154 - val_accuracy: 0.7178\n",
      "Epoch 65/100\n",
      "325/327 [============================>.] - ETA: 0s - loss: 0.0629 - accuracy: 0.9761\n",
      "Epoch 65: val_accuracy did not improve from 0.73931\n",
      "327/327 [==============================] - 20s 60ms/step - loss: 0.0634 - accuracy: 0.9760 - val_loss: 1.6866 - val_accuracy: 0.7192\n",
      "Epoch 66/100\n",
      "327/327 [==============================] - ETA: 0s - loss: 0.0801 - accuracy: 0.9719\n",
      "Epoch 66: val_accuracy did not improve from 0.73931\n",
      "327/327 [==============================] - 14s 44ms/step - loss: 0.0801 - accuracy: 0.9719 - val_loss: 1.6876 - val_accuracy: 0.7224\n",
      "Epoch 67/100\n",
      "327/327 [==============================] - ETA: 0s - loss: 0.0496 - accuracy: 0.9820\n",
      "Epoch 67: val_accuracy did not improve from 0.73931\n",
      "327/327 [==============================] - 20s 60ms/step - loss: 0.0496 - accuracy: 0.9820 - val_loss: 1.8287 - val_accuracy: 0.7221\n",
      "Epoch 68/100\n",
      "326/327 [============================>.] - ETA: 0s - loss: 0.0866 - accuracy: 0.9719\n",
      "Epoch 68: val_accuracy did not improve from 0.73931\n",
      "327/327 [==============================] - 21s 65ms/step - loss: 0.0864 - accuracy: 0.9720 - val_loss: 1.6056 - val_accuracy: 0.7198\n",
      "Epoch 69/100\n",
      "327/327 [==============================] - ETA: 0s - loss: 0.0535 - accuracy: 0.9820\n",
      "Epoch 69: val_accuracy did not improve from 0.73931\n",
      "327/327 [==============================] - 22s 67ms/step - loss: 0.0535 - accuracy: 0.9820 - val_loss: 1.6538 - val_accuracy: 0.7295\n",
      "Epoch 70/100\n",
      "327/327 [==============================] - ETA: 0s - loss: 0.0518 - accuracy: 0.9820\n",
      "Epoch 70: val_accuracy did not improve from 0.73931\n",
      "327/327 [==============================] - 25s 75ms/step - loss: 0.0518 - accuracy: 0.9820 - val_loss: 1.7024 - val_accuracy: 0.7183\n",
      "Epoch 71/100\n",
      "327/327 [==============================] - ETA: 0s - loss: 0.0694 - accuracy: 0.9733\n",
      "Epoch 71: val_accuracy did not improve from 0.73931\n",
      "327/327 [==============================] - 25s 77ms/step - loss: 0.0694 - accuracy: 0.9733 - val_loss: 1.7572 - val_accuracy: 0.7316\n",
      "Epoch 72/100\n",
      "327/327 [==============================] - ETA: 0s - loss: 0.0488 - accuracy: 0.9828\n",
      "Epoch 72: val_accuracy did not improve from 0.73931\n",
      "327/327 [==============================] - 23s 71ms/step - loss: 0.0488 - accuracy: 0.9828 - val_loss: 1.6878 - val_accuracy: 0.7169\n",
      "Epoch 73/100\n",
      "327/327 [==============================] - ETA: 0s - loss: 0.0388 - accuracy: 0.9865\n",
      "Epoch 73: val_accuracy did not improve from 0.73931\n",
      "327/327 [==============================] - 23s 72ms/step - loss: 0.0388 - accuracy: 0.9865 - val_loss: 1.8382 - val_accuracy: 0.7244\n",
      "Epoch 74/100\n",
      "327/327 [==============================] - ETA: 0s - loss: 0.0735 - accuracy: 0.9723\n",
      "Epoch 74: val_accuracy did not improve from 0.73931\n",
      "327/327 [==============================] - 20s 62ms/step - loss: 0.0735 - accuracy: 0.9723 - val_loss: 1.7644 - val_accuracy: 0.7218\n",
      "Epoch 75/100\n",
      "327/327 [==============================] - ETA: 0s - loss: 0.0717 - accuracy: 0.9756\n",
      "Epoch 75: val_accuracy did not improve from 0.73931\n",
      "327/327 [==============================] - 22s 68ms/step - loss: 0.0717 - accuracy: 0.9756 - val_loss: 1.7896 - val_accuracy: 0.7316\n",
      "Epoch 76/100\n",
      "327/327 [==============================] - ETA: 0s - loss: 0.0566 - accuracy: 0.9794\n",
      "Epoch 76: val_accuracy did not improve from 0.73931\n",
      "327/327 [==============================] - 24s 74ms/step - loss: 0.0566 - accuracy: 0.9794 - val_loss: 1.7699 - val_accuracy: 0.7224\n",
      "Epoch 77/100\n",
      "327/327 [==============================] - ETA: 0s - loss: 0.0261 - accuracy: 0.9927\n",
      "Epoch 77: val_accuracy did not improve from 0.73931\n",
      "327/327 [==============================] - 20s 62ms/step - loss: 0.0261 - accuracy: 0.9927 - val_loss: 1.9649 - val_accuracy: 0.7318\n",
      "Epoch 78/100\n",
      "327/327 [==============================] - ETA: 0s - loss: 0.0623 - accuracy: 0.9800\n",
      "Epoch 78: val_accuracy did not improve from 0.73931\n",
      "327/327 [==============================] - 25s 75ms/step - loss: 0.0623 - accuracy: 0.9800 - val_loss: 1.7980 - val_accuracy: 0.7186\n",
      "Epoch 79/100\n",
      "327/327 [==============================] - ETA: 0s - loss: 0.0680 - accuracy: 0.9754\n",
      "Epoch 79: val_accuracy did not improve from 0.73931\n",
      "327/327 [==============================] - 23s 71ms/step - loss: 0.0680 - accuracy: 0.9754 - val_loss: 1.6920 - val_accuracy: 0.7261\n",
      "Epoch 80/100\n",
      "326/327 [============================>.] - ETA: 0s - loss: 0.0257 - accuracy: 0.9918\n",
      "Epoch 80: val_accuracy did not improve from 0.73931\n",
      "327/327 [==============================] - 21s 64ms/step - loss: 0.0257 - accuracy: 0.9919 - val_loss: 1.8288 - val_accuracy: 0.7221\n",
      "Epoch 81/100\n",
      "326/327 [============================>.] - ETA: 0s - loss: 0.0702 - accuracy: 0.9750\n",
      "Epoch 81: val_accuracy did not improve from 0.73931\n",
      "327/327 [==============================] - 19s 57ms/step - loss: 0.0705 - accuracy: 0.9749 - val_loss: 1.7157 - val_accuracy: 0.7172\n",
      "Epoch 82/100\n",
      "326/327 [============================>.] - ETA: 0s - loss: 0.0512 - accuracy: 0.9822\n",
      "Epoch 82: val_accuracy did not improve from 0.73931\n",
      "327/327 [==============================] - 17s 52ms/step - loss: 0.0512 - accuracy: 0.9822 - val_loss: 1.8080 - val_accuracy: 0.6868\n",
      "Epoch 83/100\n",
      "326/327 [============================>.] - ETA: 0s - loss: 0.0908 - accuracy: 0.9682\n",
      "Epoch 83: val_accuracy did not improve from 0.73931\n",
      "327/327 [==============================] - 19s 59ms/step - loss: 0.0905 - accuracy: 0.9683 - val_loss: 1.6432 - val_accuracy: 0.7341\n",
      "Epoch 84/100\n",
      "327/327 [==============================] - ETA: 0s - loss: 0.0173 - accuracy: 0.9946\n",
      "Epoch 84: val_accuracy did not improve from 0.73931\n",
      "327/327 [==============================] - 19s 58ms/step - loss: 0.0173 - accuracy: 0.9946 - val_loss: 1.8683 - val_accuracy: 0.7347\n",
      "Epoch 85/100\n",
      "327/327 [==============================] - ETA: 0s - loss: 0.0718 - accuracy: 0.9754\n",
      "Epoch 85: val_accuracy did not improve from 0.73931\n",
      "327/327 [==============================] - 21s 65ms/step - loss: 0.0718 - accuracy: 0.9754 - val_loss: 1.7813 - val_accuracy: 0.7310\n",
      "Epoch 86/100\n",
      "327/327 [==============================] - ETA: 0s - loss: 0.0549 - accuracy: 0.9816\n",
      "Epoch 86: val_accuracy did not improve from 0.73931\n",
      "327/327 [==============================] - 20s 60ms/step - loss: 0.0549 - accuracy: 0.9816 - val_loss: 1.5914 - val_accuracy: 0.7175\n",
      "Epoch 87/100\n",
      "327/327 [==============================] - ETA: 0s - loss: 0.0399 - accuracy: 0.9860\n",
      "Epoch 87: val_accuracy did not improve from 0.73931\n",
      "327/327 [==============================] - 20s 61ms/step - loss: 0.0399 - accuracy: 0.9860 - val_loss: 1.8770 - val_accuracy: 0.7313\n",
      "Epoch 88/100\n",
      "327/327 [==============================] - ETA: 0s - loss: 0.0314 - accuracy: 0.9892\n",
      "Epoch 88: val_accuracy did not improve from 0.73931\n",
      "327/327 [==============================] - 20s 61ms/step - loss: 0.0314 - accuracy: 0.9892 - val_loss: 1.8009 - val_accuracy: 0.7290\n",
      "Epoch 89/100\n",
      "325/327 [============================>.] - ETA: 0s - loss: 0.0609 - accuracy: 0.9777\n",
      "Epoch 89: val_accuracy did not improve from 0.73931\n",
      "327/327 [==============================] - 19s 57ms/step - loss: 0.0609 - accuracy: 0.9776 - val_loss: 1.8218 - val_accuracy: 0.7235\n",
      "Epoch 90/100\n",
      "327/327 [==============================] - ETA: 0s - loss: 0.0715 - accuracy: 0.9742\n",
      "Epoch 90: val_accuracy did not improve from 0.73931\n",
      "327/327 [==============================] - 21s 66ms/step - loss: 0.0715 - accuracy: 0.9742 - val_loss: 1.7292 - val_accuracy: 0.7206\n",
      "Epoch 91/100\n",
      "327/327 [==============================] - ETA: 0s - loss: 0.0293 - accuracy: 0.9906\n",
      "Epoch 91: val_accuracy did not improve from 0.73931\n",
      "327/327 [==============================] - 20s 62ms/step - loss: 0.0293 - accuracy: 0.9906 - val_loss: 1.9500 - val_accuracy: 0.7264\n",
      "Epoch 92/100\n",
      "327/327 [==============================] - ETA: 0s - loss: 0.0654 - accuracy: 0.9771\n",
      "Epoch 92: val_accuracy did not improve from 0.73931\n",
      "327/327 [==============================] - 19s 58ms/step - loss: 0.0654 - accuracy: 0.9771 - val_loss: 1.8527 - val_accuracy: 0.7069\n",
      "Epoch 93/100\n",
      "327/327 [==============================] - ETA: 0s - loss: 0.0402 - accuracy: 0.9858\n",
      "Epoch 93: val_accuracy did not improve from 0.73931\n",
      "327/327 [==============================] - 21s 63ms/step - loss: 0.0402 - accuracy: 0.9858 - val_loss: 1.8794 - val_accuracy: 0.7258\n",
      "Epoch 94/100\n",
      "327/327 [==============================] - ETA: 0s - loss: 0.0193 - accuracy: 0.9936\n",
      "Epoch 94: val_accuracy improved from 0.73931 to 0.74074, saving model to best_model.h5\n",
      "327/327 [==============================] - 21s 64ms/step - loss: 0.0193 - accuracy: 0.9936 - val_loss: 1.9777 - val_accuracy: 0.7407\n",
      "Epoch 95/100\n",
      "326/327 [============================>.] - ETA: 0s - loss: 0.0101 - accuracy: 0.9970\n",
      "Epoch 95: val_accuracy did not improve from 0.74074\n",
      "327/327 [==============================] - 17s 52ms/step - loss: 0.0101 - accuracy: 0.9970 - val_loss: 2.0855 - val_accuracy: 0.7310\n",
      "Epoch 96/100\n",
      "327/327 [==============================] - ETA: 0s - loss: 0.0070 - accuracy: 0.9977\n",
      "Epoch 96: val_accuracy did not improve from 0.74074\n",
      "327/327 [==============================] - 27s 82ms/step - loss: 0.0070 - accuracy: 0.9977 - val_loss: 2.3066 - val_accuracy: 0.7198\n",
      "Epoch 97/100\n",
      "327/327 [==============================] - ETA: 0s - loss: 0.1393 - accuracy: 0.9558\n",
      "Epoch 97: val_accuracy did not improve from 0.74074\n",
      "327/327 [==============================] - 21s 64ms/step - loss: 0.1393 - accuracy: 0.9558 - val_loss: 1.6420 - val_accuracy: 0.7158\n",
      "Epoch 98/100\n",
      "326/327 [============================>.] - ETA: 0s - loss: 0.0132 - accuracy: 0.9965\n",
      "Epoch 98: val_accuracy did not improve from 0.74074\n",
      "327/327 [==============================] - 16s 50ms/step - loss: 0.0131 - accuracy: 0.9966 - val_loss: 1.7974 - val_accuracy: 0.7247\n",
      "Epoch 99/100\n",
      "327/327 [==============================] - ETA: 0s - loss: 0.0047 - accuracy: 0.9991\n",
      "Epoch 99: val_accuracy did not improve from 0.74074\n",
      "327/327 [==============================] - 18s 55ms/step - loss: 0.0047 - accuracy: 0.9991 - val_loss: 2.0476 - val_accuracy: 0.7293\n",
      "Epoch 100/100\n",
      "326/327 [============================>.] - ETA: 0s - loss: 0.1125 - accuracy: 0.9603\n",
      "Epoch 100: val_accuracy did not improve from 0.74074\n",
      "327/327 [==============================] - 20s 61ms/step - loss: 0.1123 - accuracy: 0.9603 - val_loss: 1.6574 - val_accuracy: 0.7204\n"
     ]
    }
   ],
   "source": [
    "history = model1.fit(\n",
    "    train_images,\n",
    "    validation_data=val_images,\n",
    "    epochs=100,\n",
    "    callbacks=[es, mc],\n",
    "    \n",
    ")"
   ]
  },
  {
   "cell_type": "markdown",
   "metadata": {},
   "source": [
    "### Peformance Validation"
   ]
  },
  {
   "cell_type": "code",
   "execution_count": 169,
   "metadata": {},
   "outputs": [
    {
     "data": {
      "image/png": "[encoded data removed]",
      "text/plain": [
       "<Figure size 432x288 with 1 Axes>"
      ]
     },
     "metadata": {
      "needs_background": "light"
     },
     "output_type": "display_data"
    }
   ],
   "source": [
    "import matplotlib.pyplot as plt\n",
    "%matplotlib inline\n",
    "\n",
    "plt.figure()\n",
    "plt.plot(history.history[\"loss\"],label = \"Train Loss\", color = \"black\")\n",
    "plt.plot(history.history[\"val_loss\"],label = \"Validation Loss\", color = \"darkred\")\n",
    "plt.title(\"Model Loss\", color = \"darkred\", size = 13)\n",
    "plt.legend()\n",
    "plt.show()\n"
   ]
  },
  {
   "cell_type": "code",
   "execution_count": 148,
   "metadata": {},
   "outputs": [
    {
     "data": {
      "text/plain": [
       "dict_keys(['loss', 'accuracy', 'val_loss', 'val_accuracy'])"
      ]
     },
     "execution_count": 148,
     "metadata": {},
     "output_type": "execute_result"
    }
   ],
   "source": [
    "history.history.keys()"
   ]
  },
  {
   "cell_type": "code",
   "execution_count": 153,
   "metadata": {},
   "outputs": [],
   "source": [
    "from keras.models import load_model "
   ]
  },
  {
   "cell_type": "code",
   "execution_count": 154,
   "metadata": {},
   "outputs": [],
   "source": [
    "model2 = load_model('best_model.h5')"
   ]
  },
  {
   "cell_type": "markdown",
   "metadata": {},
   "source": [
    "## Model Evaluation"
   ]
  },
  {
   "cell_type": "code",
   "execution_count": 155,
   "metadata": {},
   "outputs": [
    {
     "name": "stdout",
     "output_type": "stream",
     "text": [
      "187/187 [==============================] - 149s 793ms/step - loss: 0.7184 - accuracy: 0.7252\n"
     ]
    },
    {
     "data": {
      "text/plain": [
       "[0.7184053659439087, 0.7252177000045776]"
      ]
     },
     "execution_count": 155,
     "metadata": {},
     "output_type": "execute_result"
    }
   ],
   "source": [
    "model2.evaluate(test_images)"
   ]
  },
  {
   "cell_type": "code",
   "execution_count": 156,
   "metadata": {},
   "outputs": [
    {
     "name": "stdout",
     "output_type": "stream",
     "text": [
      "187/187 [==============================] - 14s 75ms/step - loss: 1.3677 - accuracy: 0.7078\n"
     ]
    },
    {
     "data": {
      "text/plain": [
       "[1.3676518201828003, 0.7078030705451965]"
      ]
     },
     "execution_count": 156,
     "metadata": {},
     "output_type": "execute_result"
    }
   ],
   "source": [
    "model1.evaluate(test_images)"
   ]
  },
  {
   "cell_type": "markdown",
   "metadata": {},
   "source": [
    "# Model Prediction"
   ]
  },
  {
   "cell_type": "code",
   "execution_count": 171,
   "metadata": {},
   "outputs": [
    {
     "name": "stdout",
     "output_type": "stream",
     "text": [
      "187/187 [==============================] - 106s 569ms/step\n"
     ]
    }
   ],
   "source": [
    "pred_age = model2.predict(test_images)"
   ]
  },
  {
   "cell_type": "code",
   "execution_count": 229,
   "metadata": {},
   "outputs": [
    {
     "data": {
      "text/plain": [
       "[2, 2, 2, 2, 0]"
      ]
     },
     "execution_count": 229,
     "metadata": {},
     "output_type": "execute_result"
    }
   ],
   "source": [
    "pred_age_ind = [np.argmax(i) for i in  pred_age[:5]]\n",
    "pred_age_ind"
   ]
  },
  {
   "cell_type": "code",
   "execution_count": 230,
   "metadata": {},
   "outputs": [
    {
     "data": {
      "text/plain": [
       "[2, 2, 0, 2, 0]"
      ]
     },
     "execution_count": 230,
     "metadata": {},
     "output_type": "execute_result"
    }
   ],
   "source": [
    "test_images.labels[:5]"
   ]
  },
  {
   "cell_type": "code",
   "execution_count": 209,
   "metadata": {},
   "outputs": [
    {
     "data": {
      "text/plain": [
       "{'MIDDLE': 0, 'OLD': 1, 'YOUNG': 2}"
      ]
     },
     "execution_count": 209,
     "metadata": {},
     "output_type": "execute_result"
    }
   ],
   "source": [
    "test_images.class_indices"
   ]
  },
  {
   "cell_type": "markdown",
   "metadata": {},
   "source": [
    "# Predicted Image with Labels"
   ]
  },
  {
   "cell_type": "code",
   "execution_count": 255,
   "metadata": {},
   "outputs": [
    {
     "name": "stdout",
     "output_type": "stream",
     "text": [
      "1/1 [==============================] - 0s 24ms/step\n"
     ]
    },
    {
     "data": {
      "image/png": "[encoded data removed]",
      "text/plain": [
       "<Figure size 432x288 with 1 Axes>"
      ]
     },
     "metadata": {
      "needs_background": "light"
     },
     "output_type": "display_data"
    }
   ],
   "source": [
    "for batch in test_images:\n",
    "    image = batch[0]\n",
    "    label = [np.argmax(i) for i in batch[1]]\n",
    "    #print(label)\n",
    "    pred= model2.predict(image)\n",
    "    pred_ind = [np.argmax(i) for i in pred]\n",
    "    #print(pred_ind)\n",
    "    for i in range(1):\n",
    "        plt.imshow(image[i])\n",
    "        plt.title( \"Pred = {}, Actual: {}\" .format( list(test_images.class_indices.keys())[pred_ind[i]], list(test_images.class_indices.keys())[label[i]]))\n",
    "        plt.show()\n",
    "    break"
   ]
  }
 ],
 "metadata": {
  "kernelspec": {
   "display_name": "Python 3.9.12 ('base')",
   "language": "python",
   "name": "python3"
  },
  "language_info": {
   "codemirror_mode": {
    "name": "ipython",
    "version": 3
   },
   "file_extension": ".py",
   "mimetype": "text/x-python",
   "name": "python",
   "nbconvert_exporter": "python",
   "pygments_lexer": "ipython3",
   "version": "3.9.12"
  },
  "orig_nbformat": 4,
  "vscode": {
   "interpreter": {
    "hash": "ad2bdc8ecc057115af97d19610ffacc2b4e99fae6737bb82f5d7fb13d2f2c186"
   }
  }
 },
 "nbformat": 4,
 "nbformat_minor": 2
}
